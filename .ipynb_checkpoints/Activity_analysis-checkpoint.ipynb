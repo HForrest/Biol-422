{
 "cells": [
  {
   "cell_type": "code",
   "execution_count": 44,
   "id": "french-senator",
   "metadata": {},
   "outputs": [],
   "source": [
    "import pandas as pd\n",
    "import matplotlib.pyplot as plt\n",
    "import numpy as np\n",
    "from tqdm.notebook import tqdm\n",
    "%matplotlib inline"
   ]
  },
  {
   "cell_type": "code",
   "execution_count": 3,
   "id": "intended-highway",
   "metadata": {},
   "outputs": [
    {
     "data": {
      "text/html": [
       "<div>\n",
       "<style scoped>\n",
       "    .dataframe tbody tr th:only-of-type {\n",
       "        vertical-align: middle;\n",
       "    }\n",
       "\n",
       "    .dataframe tbody tr th {\n",
       "        vertical-align: top;\n",
       "    }\n",
       "\n",
       "    .dataframe thead th {\n",
       "        text-align: right;\n",
       "    }\n",
       "</style>\n",
       "<table border=\"1\" class=\"dataframe\">\n",
       "  <thead>\n",
       "    <tr style=\"text-align: right;\">\n",
       "      <th></th>\n",
       "      <th>Off-Wrist Status</th>\n",
       "      <th>Activity</th>\n",
       "      <th>Marker</th>\n",
       "      <th>White Light</th>\n",
       "      <th>Red Light</th>\n",
       "      <th>Green Light</th>\n",
       "      <th>Blue Light</th>\n",
       "      <th>Sleep/Wake</th>\n",
       "      <th>Interval Status</th>\n",
       "      <th>Timestamp</th>\n",
       "    </tr>\n",
       "  </thead>\n",
       "  <tbody>\n",
       "    <tr>\n",
       "      <th>0</th>\n",
       "      <td>0</td>\n",
       "      <td>298.0</td>\n",
       "      <td>0.0</td>\n",
       "      <td>1458.34</td>\n",
       "      <td>1630.0</td>\n",
       "      <td>1620.0</td>\n",
       "      <td>502.0</td>\n",
       "      <td>1.0</td>\n",
       "      <td>ACTIVE</td>\n",
       "      <td>2016-03-30 15:02:00</td>\n",
       "    </tr>\n",
       "  </tbody>\n",
       "</table>\n",
       "</div>"
      ],
      "text/plain": [
       "   Off-Wrist Status  Activity  Marker  White Light  Red Light  Green Light  \\\n",
       "0                 0     298.0     0.0      1458.34     1630.0       1620.0   \n",
       "\n",
       "   Blue Light  Sleep/Wake Interval Status           Timestamp  \n",
       "0       502.0         1.0          ACTIVE 2016-03-30 15:02:00  "
      ]
     },
     "execution_count": 3,
     "metadata": {},
     "output_type": "execute_result"
    }
   ],
   "source": [
    "#Initial cleanup\n",
    "df = pd.read_csv(\"Watch_data.csv\")\n",
    "df.set_index(\"Line\", inplace=True)\n",
    "df.dropna(inplace = True)\n",
    "df.reset_index(inplace = True)\n",
    "df.drop(\"Line\", axis = 1, inplace= True)\n",
    "df[\"Timestamp\"] = pd.to_datetime(df.Date + ' ' + df.Time)\n",
    "df.drop(\"Date\", axis = 1, inplace= True)\n",
    "df.drop(\"Time\", axis = 1, inplace= True)\n",
    "df.head(1)"
   ]
  },
  {
   "cell_type": "code",
   "execution_count": 4,
   "id": "5ff6fe32-9594-4931-91da-5f925dc225e3",
   "metadata": {},
   "outputs": [
    {
     "data": {
      "text/html": [
       "<div>\n",
       "<style scoped>\n",
       "    .dataframe tbody tr th:only-of-type {\n",
       "        vertical-align: middle;\n",
       "    }\n",
       "\n",
       "    .dataframe tbody tr th {\n",
       "        vertical-align: top;\n",
       "    }\n",
       "\n",
       "    .dataframe thead th {\n",
       "        text-align: right;\n",
       "    }\n",
       "</style>\n",
       "<table border=\"1\" class=\"dataframe\">\n",
       "  <thead>\n",
       "    <tr style=\"text-align: right;\">\n",
       "      <th></th>\n",
       "      <th>Off-Wrist Status</th>\n",
       "      <th>Activity</th>\n",
       "      <th>Marker</th>\n",
       "      <th>White Light</th>\n",
       "      <th>Red Light</th>\n",
       "      <th>Green Light</th>\n",
       "      <th>Blue Light</th>\n",
       "      <th>Sleep/Wake</th>\n",
       "      <th>Interval Status</th>\n",
       "      <th>Timestamp</th>\n",
       "      <th>Dayofweek</th>\n",
       "    </tr>\n",
       "  </thead>\n",
       "  <tbody>\n",
       "    <tr>\n",
       "      <th>0</th>\n",
       "      <td>0</td>\n",
       "      <td>298.0</td>\n",
       "      <td>0.0</td>\n",
       "      <td>1458.34</td>\n",
       "      <td>1630.0</td>\n",
       "      <td>1620.0</td>\n",
       "      <td>502.0</td>\n",
       "      <td>1.0</td>\n",
       "      <td>ACTIVE</td>\n",
       "      <td>2016-03-30 15:02:00</td>\n",
       "      <td>2</td>\n",
       "    </tr>\n",
       "  </tbody>\n",
       "</table>\n",
       "</div>"
      ],
      "text/plain": [
       "   Off-Wrist Status  Activity  Marker  White Light  Red Light  Green Light  \\\n",
       "0                 0     298.0     0.0      1458.34     1630.0       1620.0   \n",
       "\n",
       "   Blue Light  Sleep/Wake Interval Status           Timestamp  Dayofweek  \n",
       "0       502.0         1.0          ACTIVE 2016-03-30 15:02:00          2  "
      ]
     },
     "execution_count": 4,
     "metadata": {},
     "output_type": "execute_result"
    }
   ],
   "source": [
    "# Adds day of week\n",
    "lst= []\n",
    "for time in df.Timestamp:\n",
    "    x=time.day_of_week\n",
    "    lst.append(x)\n",
    "df['Dayofweek'] = lst\n",
    "df.head(1)"
   ]
  },
  {
   "cell_type": "code",
   "execution_count": 5,
   "id": "6b34eef6-86d6-463c-b280-b47a56a872a5",
   "metadata": {},
   "outputs": [
    {
     "data": {
      "text/html": [
       "<div>\n",
       "<style scoped>\n",
       "    .dataframe tbody tr th:only-of-type {\n",
       "        vertical-align: middle;\n",
       "    }\n",
       "\n",
       "    .dataframe tbody tr th {\n",
       "        vertical-align: top;\n",
       "    }\n",
       "\n",
       "    .dataframe thead th {\n",
       "        text-align: right;\n",
       "    }\n",
       "</style>\n",
       "<table border=\"1\" class=\"dataframe\">\n",
       "  <thead>\n",
       "    <tr style=\"text-align: right;\">\n",
       "      <th></th>\n",
       "      <th>Off-Wrist Status</th>\n",
       "      <th>Activity</th>\n",
       "      <th>Marker</th>\n",
       "      <th>White Light</th>\n",
       "      <th>Red Light</th>\n",
       "      <th>Green Light</th>\n",
       "      <th>Blue Light</th>\n",
       "      <th>Sleep/Wake</th>\n",
       "      <th>Interval Status</th>\n",
       "      <th>Timestamp</th>\n",
       "      <th>Dayofweek</th>\n",
       "      <th>Hours</th>\n",
       "    </tr>\n",
       "  </thead>\n",
       "  <tbody>\n",
       "    <tr>\n",
       "      <th>0</th>\n",
       "      <td>0</td>\n",
       "      <td>298.0</td>\n",
       "      <td>0.0</td>\n",
       "      <td>1458.34</td>\n",
       "      <td>1630.0</td>\n",
       "      <td>1620.0</td>\n",
       "      <td>502.0</td>\n",
       "      <td>1.0</td>\n",
       "      <td>ACTIVE</td>\n",
       "      <td>2016-03-30 15:02:00</td>\n",
       "      <td>2</td>\n",
       "      <td>15.033333</td>\n",
       "    </tr>\n",
       "  </tbody>\n",
       "</table>\n",
       "</div>"
      ],
      "text/plain": [
       "   Off-Wrist Status  Activity  Marker  White Light  Red Light  Green Light  \\\n",
       "0                 0     298.0     0.0      1458.34     1630.0       1620.0   \n",
       "\n",
       "   Blue Light  Sleep/Wake Interval Status           Timestamp  Dayofweek  \\\n",
       "0       502.0         1.0          ACTIVE 2016-03-30 15:02:00          2   \n",
       "\n",
       "       Hours  \n",
       "0  15.033333  "
      ]
     },
     "execution_count": 5,
     "metadata": {},
     "output_type": "execute_result"
    }
   ],
   "source": [
    "#Adds hours since midnight\n",
    "lst = []\n",
    "for time in df.Timestamp:\n",
    "    x = time.hour + time.minute/60 + time.second/3600\n",
    "    lst.append(x)\n",
    "df['Hours'] = lst\n",
    "df.head(1)"
   ]
  },
  {
   "cell_type": "code",
   "execution_count": 6,
   "id": "917728c8-4590-46c4-8f7b-85691a309eea",
   "metadata": {},
   "outputs": [],
   "source": [
    "#Filters by day of week\n",
    "weekday = df.loc[df.Dayofweek <= 4]\n",
    "weekend = df.loc[df.Dayofweek >= 5]"
   ]
  },
  {
   "cell_type": "code",
   "execution_count": 10,
   "id": "1983b5b3-c0a7-469e-8548-487f12ef3443",
   "metadata": {},
   "outputs": [],
   "source": [
    "def meanitup(df, label):\n",
    "    '''Groups all observations by the value in a column and outputs\n",
    "    a dataframe of the means of all values as grouped'''\n",
    "    cols = list(df.columns)\n",
    "    cols.remove(label)\n",
    "    labels = list(df[label].unique())\n",
    "    \n",
    "    mean = pd.DataFrame(labels)\n",
    "    \n",
    "    for column in tqdm(cols, position = 0):\n",
    "        lst = []\n",
    "        for entry in tqdm(labels, position = 1, leave = False):\n",
    "            sel_series = df[[label,column]].loc[df[label] == entry][column]\n",
    "\n",
    "            if sel_series.dtype == 'float64':\n",
    "                x = sel_series.mean()\n",
    "                lst.append(x)\n",
    "            else:\n",
    "                pass\n",
    "        if lst != []:\n",
    "            mean[column] = lst\n",
    "        else:\n",
    "            pass\n",
    "    mean.rename(columns = {0:label}, inplace = True)\n",
    "    return(mean)"
   ]
  },
  {
   "cell_type": "code",
   "execution_count": 11,
   "id": "vocational-reducing",
   "metadata": {},
   "outputs": [
    {
     "data": {
      "application/vnd.jupyter.widget-view+json": {
       "model_id": "d4f47bc5ae8a49b486ffe8cf4232d90f",
       "version_major": 2,
       "version_minor": 0
      },
      "text/plain": [
       "  0%|          | 0/11 [00:00<?, ?it/s]"
      ]
     },
     "metadata": {},
     "output_type": "display_data"
    },
    {
     "data": {
      "application/vnd.jupyter.widget-view+json": {
       "model_id": "",
       "version_major": 2,
       "version_minor": 0
      },
      "text/plain": [
       "  0%|          | 0/5760 [00:00<?, ?it/s]"
      ]
     },
     "metadata": {},
     "output_type": "display_data"
    },
    {
     "data": {
      "application/vnd.jupyter.widget-view+json": {
       "model_id": "",
       "version_major": 2,
       "version_minor": 0
      },
      "text/plain": [
       "  0%|          | 0/5760 [00:00<?, ?it/s]"
      ]
     },
     "metadata": {},
     "output_type": "display_data"
    },
    {
     "data": {
      "application/vnd.jupyter.widget-view+json": {
       "model_id": "",
       "version_major": 2,
       "version_minor": 0
      },
      "text/plain": [
       "  0%|          | 0/5760 [00:00<?, ?it/s]"
      ]
     },
     "metadata": {},
     "output_type": "display_data"
    },
    {
     "data": {
      "application/vnd.jupyter.widget-view+json": {
       "model_id": "",
       "version_major": 2,
       "version_minor": 0
      },
      "text/plain": [
       "  0%|          | 0/5760 [00:00<?, ?it/s]"
      ]
     },
     "metadata": {},
     "output_type": "display_data"
    },
    {
     "data": {
      "application/vnd.jupyter.widget-view+json": {
       "model_id": "",
       "version_major": 2,
       "version_minor": 0
      },
      "text/plain": [
       "  0%|          | 0/5760 [00:00<?, ?it/s]"
      ]
     },
     "metadata": {},
     "output_type": "display_data"
    },
    {
     "data": {
      "application/vnd.jupyter.widget-view+json": {
       "model_id": "",
       "version_major": 2,
       "version_minor": 0
      },
      "text/plain": [
       "  0%|          | 0/5760 [00:00<?, ?it/s]"
      ]
     },
     "metadata": {},
     "output_type": "display_data"
    },
    {
     "data": {
      "application/vnd.jupyter.widget-view+json": {
       "model_id": "",
       "version_major": 2,
       "version_minor": 0
      },
      "text/plain": [
       "  0%|          | 0/5760 [00:00<?, ?it/s]"
      ]
     },
     "metadata": {},
     "output_type": "display_data"
    },
    {
     "data": {
      "application/vnd.jupyter.widget-view+json": {
       "model_id": "",
       "version_major": 2,
       "version_minor": 0
      },
      "text/plain": [
       "  0%|          | 0/5760 [00:00<?, ?it/s]"
      ]
     },
     "metadata": {},
     "output_type": "display_data"
    },
    {
     "data": {
      "application/vnd.jupyter.widget-view+json": {
       "model_id": "",
       "version_major": 2,
       "version_minor": 0
      },
      "text/plain": [
       "  0%|          | 0/5760 [00:00<?, ?it/s]"
      ]
     },
     "metadata": {},
     "output_type": "display_data"
    },
    {
     "data": {
      "application/vnd.jupyter.widget-view+json": {
       "model_id": "",
       "version_major": 2,
       "version_minor": 0
      },
      "text/plain": [
       "  0%|          | 0/5760 [00:00<?, ?it/s]"
      ]
     },
     "metadata": {},
     "output_type": "display_data"
    },
    {
     "data": {
      "application/vnd.jupyter.widget-view+json": {
       "model_id": "",
       "version_major": 2,
       "version_minor": 0
      },
      "text/plain": [
       "  0%|          | 0/5760 [00:00<?, ?it/s]"
      ]
     },
     "metadata": {},
     "output_type": "display_data"
    },
    {
     "data": {
      "application/vnd.jupyter.widget-view+json": {
       "model_id": "42830e212bf64d8d8376701cdf212917",
       "version_major": 2,
       "version_minor": 0
      },
      "text/plain": [
       "  0%|          | 0/11 [00:00<?, ?it/s]"
      ]
     },
     "metadata": {},
     "output_type": "display_data"
    },
    {
     "data": {
      "application/vnd.jupyter.widget-view+json": {
       "model_id": "",
       "version_major": 2,
       "version_minor": 0
      },
      "text/plain": [
       "  0%|          | 0/5760 [00:00<?, ?it/s]"
      ]
     },
     "metadata": {},
     "output_type": "display_data"
    },
    {
     "data": {
      "application/vnd.jupyter.widget-view+json": {
       "model_id": "",
       "version_major": 2,
       "version_minor": 0
      },
      "text/plain": [
       "  0%|          | 0/5760 [00:00<?, ?it/s]"
      ]
     },
     "metadata": {},
     "output_type": "display_data"
    },
    {
     "data": {
      "application/vnd.jupyter.widget-view+json": {
       "model_id": "",
       "version_major": 2,
       "version_minor": 0
      },
      "text/plain": [
       "  0%|          | 0/5760 [00:00<?, ?it/s]"
      ]
     },
     "metadata": {},
     "output_type": "display_data"
    },
    {
     "data": {
      "application/vnd.jupyter.widget-view+json": {
       "model_id": "",
       "version_major": 2,
       "version_minor": 0
      },
      "text/plain": [
       "  0%|          | 0/5760 [00:00<?, ?it/s]"
      ]
     },
     "metadata": {},
     "output_type": "display_data"
    },
    {
     "data": {
      "application/vnd.jupyter.widget-view+json": {
       "model_id": "",
       "version_major": 2,
       "version_minor": 0
      },
      "text/plain": [
       "  0%|          | 0/5760 [00:00<?, ?it/s]"
      ]
     },
     "metadata": {},
     "output_type": "display_data"
    },
    {
     "data": {
      "application/vnd.jupyter.widget-view+json": {
       "model_id": "",
       "version_major": 2,
       "version_minor": 0
      },
      "text/plain": [
       "  0%|          | 0/5760 [00:00<?, ?it/s]"
      ]
     },
     "metadata": {},
     "output_type": "display_data"
    },
    {
     "data": {
      "application/vnd.jupyter.widget-view+json": {
       "model_id": "",
       "version_major": 2,
       "version_minor": 0
      },
      "text/plain": [
       "  0%|          | 0/5760 [00:00<?, ?it/s]"
      ]
     },
     "metadata": {},
     "output_type": "display_data"
    },
    {
     "data": {
      "application/vnd.jupyter.widget-view+json": {
       "model_id": "",
       "version_major": 2,
       "version_minor": 0
      },
      "text/plain": [
       "  0%|          | 0/5760 [00:00<?, ?it/s]"
      ]
     },
     "metadata": {},
     "output_type": "display_data"
    },
    {
     "data": {
      "application/vnd.jupyter.widget-view+json": {
       "model_id": "",
       "version_major": 2,
       "version_minor": 0
      },
      "text/plain": [
       "  0%|          | 0/5760 [00:00<?, ?it/s]"
      ]
     },
     "metadata": {},
     "output_type": "display_data"
    },
    {
     "data": {
      "application/vnd.jupyter.widget-view+json": {
       "model_id": "",
       "version_major": 2,
       "version_minor": 0
      },
      "text/plain": [
       "  0%|          | 0/5760 [00:00<?, ?it/s]"
      ]
     },
     "metadata": {},
     "output_type": "display_data"
    },
    {
     "data": {
      "application/vnd.jupyter.widget-view+json": {
       "model_id": "",
       "version_major": 2,
       "version_minor": 0
      },
      "text/plain": [
       "  0%|          | 0/5760 [00:00<?, ?it/s]"
      ]
     },
     "metadata": {},
     "output_type": "display_data"
    },
    {
     "data": {
      "application/vnd.jupyter.widget-view+json": {
       "model_id": "f31f6f210d384ffdb6c427a435fa6108",
       "version_major": 2,
       "version_minor": 0
      },
      "text/plain": [
       "  0%|          | 0/11 [00:00<?, ?it/s]"
      ]
     },
     "metadata": {},
     "output_type": "display_data"
    },
    {
     "data": {
      "application/vnd.jupyter.widget-view+json": {
       "model_id": "",
       "version_major": 2,
       "version_minor": 0
      },
      "text/plain": [
       "  0%|          | 0/5760 [00:00<?, ?it/s]"
      ]
     },
     "metadata": {},
     "output_type": "display_data"
    },
    {
     "data": {
      "application/vnd.jupyter.widget-view+json": {
       "model_id": "",
       "version_major": 2,
       "version_minor": 0
      },
      "text/plain": [
       "  0%|          | 0/5760 [00:00<?, ?it/s]"
      ]
     },
     "metadata": {},
     "output_type": "display_data"
    },
    {
     "data": {
      "application/vnd.jupyter.widget-view+json": {
       "model_id": "",
       "version_major": 2,
       "version_minor": 0
      },
      "text/plain": [
       "  0%|          | 0/5760 [00:00<?, ?it/s]"
      ]
     },
     "metadata": {},
     "output_type": "display_data"
    },
    {
     "data": {
      "application/vnd.jupyter.widget-view+json": {
       "model_id": "",
       "version_major": 2,
       "version_minor": 0
      },
      "text/plain": [
       "  0%|          | 0/5760 [00:00<?, ?it/s]"
      ]
     },
     "metadata": {},
     "output_type": "display_data"
    },
    {
     "data": {
      "application/vnd.jupyter.widget-view+json": {
       "model_id": "",
       "version_major": 2,
       "version_minor": 0
      },
      "text/plain": [
       "  0%|          | 0/5760 [00:00<?, ?it/s]"
      ]
     },
     "metadata": {},
     "output_type": "display_data"
    },
    {
     "data": {
      "application/vnd.jupyter.widget-view+json": {
       "model_id": "",
       "version_major": 2,
       "version_minor": 0
      },
      "text/plain": [
       "  0%|          | 0/5760 [00:00<?, ?it/s]"
      ]
     },
     "metadata": {},
     "output_type": "display_data"
    },
    {
     "data": {
      "application/vnd.jupyter.widget-view+json": {
       "model_id": "",
       "version_major": 2,
       "version_minor": 0
      },
      "text/plain": [
       "  0%|          | 0/5760 [00:00<?, ?it/s]"
      ]
     },
     "metadata": {},
     "output_type": "display_data"
    },
    {
     "data": {
      "application/vnd.jupyter.widget-view+json": {
       "model_id": "",
       "version_major": 2,
       "version_minor": 0
      },
      "text/plain": [
       "  0%|          | 0/5760 [00:00<?, ?it/s]"
      ]
     },
     "metadata": {},
     "output_type": "display_data"
    },
    {
     "data": {
      "application/vnd.jupyter.widget-view+json": {
       "model_id": "",
       "version_major": 2,
       "version_minor": 0
      },
      "text/plain": [
       "  0%|          | 0/5760 [00:00<?, ?it/s]"
      ]
     },
     "metadata": {},
     "output_type": "display_data"
    },
    {
     "data": {
      "application/vnd.jupyter.widget-view+json": {
       "model_id": "",
       "version_major": 2,
       "version_minor": 0
      },
      "text/plain": [
       "  0%|          | 0/5760 [00:00<?, ?it/s]"
      ]
     },
     "metadata": {},
     "output_type": "display_data"
    },
    {
     "data": {
      "application/vnd.jupyter.widget-view+json": {
       "model_id": "",
       "version_major": 2,
       "version_minor": 0
      },
      "text/plain": [
       "  0%|          | 0/5760 [00:00<?, ?it/s]"
      ]
     },
     "metadata": {},
     "output_type": "display_data"
    }
   ],
   "source": [
    "#Creates mean dataframes, and organizes it from midnight forwards\n",
    "mean_weekend = meanitup(weekend, 'Hours').sort_values(by = 'Hours')\n",
    "mean_weekday = meanitup(weekday, 'Hours').sort_values(by = 'Hours')\n",
    "mean_all = meanitup(df, \"Hours\").sort_values(by = 'Hours')"
   ]
  },
  {
   "cell_type": "code",
   "execution_count": 32,
   "id": "5244646d-bac3-4f9d-92a6-7a285b0d2886",
   "metadata": {},
   "outputs": [
    {
     "data": {
      "image/png": "[encoded data removed]",
      "text/plain": [
       "<Figure size 900x540 with 1 Axes>"
      ]
     },
     "metadata": {
      "needs_background": "light"
     },
     "output_type": "display_data"
    }
   ],
   "source": [
    "plt.figure(figsize=(12.5,7.5))\n",
    "ax = plt.axes()\n",
    "plt.plot(mean_weekday.Hours, mean_weekday.Activity, c = 'b', alpha = 0.5)\n",
    "plt.plot(mean_weekday.Hours, mean_weekday.Activity.rolling(100).mean(), c = 'b', alpha = 1)\n",
    "plt.plot(mean_weekend.Hours, mean_weekend.Activity, c='orange', alpha = .5)\n",
    "plt.plot(mean_weekend.Hours, mean_weekend.Activity.rolling(100).mean(), c='orange', alpha = 1)\n",
    "ax.set_xticks([0,6,12,18,24])\n",
    "ax.set_xticks(list(range(24)), minor = True)\n",
    "plt.xlim([0,24])\n",
    "plt.xlabel('Hours Since Midnight')\n",
    "plt.ylabel('Activity')\n",
    "plt.title('Mean Activity Over 24h')\n",
    "plt.legend([\"weekday\",\"weekday rolling\", \"weekend\", \"weekend rolling\"])\n",
    "plt.savefig('mean_act.svg')"
   ]
  },
  {
   "cell_type": "code",
   "execution_count": 39,
   "id": "bd95bc36-1c55-4f5e-b5ff-0f4050c4fa80",
   "metadata": {},
   "outputs": [
    {
     "data": {
      "application/vnd.jupyter.widget-view+json": {
       "model_id": "9e684fd6a1f14e7e95b1d034b4e5a08c",
       "version_major": 2,
       "version_minor": 0
      },
      "text/plain": [
       "  0%|          | 0/13 [00:00<?, ?it/s]"
      ]
     },
     "metadata": {},
     "output_type": "display_data"
    },
    {
     "data": {
      "application/vnd.jupyter.widget-view+json": {
       "model_id": "",
       "version_major": 2,
       "version_minor": 0
      },
      "text/plain": [
       "  0%|          | 0/24 [00:00<?, ?it/s]"
      ]
     },
     "metadata": {},
     "output_type": "display_data"
    },
    {
     "data": {
      "application/vnd.jupyter.widget-view+json": {
       "model_id": "",
       "version_major": 2,
       "version_minor": 0
      },
      "text/plain": [
       "  0%|          | 0/24 [00:00<?, ?it/s]"
      ]
     },
     "metadata": {},
     "output_type": "display_data"
    },
    {
     "data": {
      "application/vnd.jupyter.widget-view+json": {
       "model_id": "",
       "version_major": 2,
       "version_minor": 0
      },
      "text/plain": [
       "  0%|          | 0/24 [00:00<?, ?it/s]"
      ]
     },
     "metadata": {},
     "output_type": "display_data"
    },
    {
     "data": {
      "application/vnd.jupyter.widget-view+json": {
       "model_id": "",
       "version_major": 2,
       "version_minor": 0
      },
      "text/plain": [
       "  0%|          | 0/24 [00:00<?, ?it/s]"
      ]
     },
     "metadata": {},
     "output_type": "display_data"
    },
    {
     "data": {
      "application/vnd.jupyter.widget-view+json": {
       "model_id": "",
       "version_major": 2,
       "version_minor": 0
      },
      "text/plain": [
       "  0%|          | 0/24 [00:00<?, ?it/s]"
      ]
     },
     "metadata": {},
     "output_type": "display_data"
    },
    {
     "data": {
      "application/vnd.jupyter.widget-view+json": {
       "model_id": "",
       "version_major": 2,
       "version_minor": 0
      },
      "text/plain": [
       "  0%|          | 0/24 [00:00<?, ?it/s]"
      ]
     },
     "metadata": {},
     "output_type": "display_data"
    },
    {
     "data": {
      "application/vnd.jupyter.widget-view+json": {
       "model_id": "",
       "version_major": 2,
       "version_minor": 0
      },
      "text/plain": [
       "  0%|          | 0/24 [00:00<?, ?it/s]"
      ]
     },
     "metadata": {},
     "output_type": "display_data"
    },
    {
     "data": {
      "application/vnd.jupyter.widget-view+json": {
       "model_id": "",
       "version_major": 2,
       "version_minor": 0
      },
      "text/plain": [
       "  0%|          | 0/24 [00:00<?, ?it/s]"
      ]
     },
     "metadata": {},
     "output_type": "display_data"
    },
    {
     "data": {
      "application/vnd.jupyter.widget-view+json": {
       "model_id": "",
       "version_major": 2,
       "version_minor": 0
      },
      "text/plain": [
       "  0%|          | 0/24 [00:00<?, ?it/s]"
      ]
     },
     "metadata": {},
     "output_type": "display_data"
    },
    {
     "data": {
      "application/vnd.jupyter.widget-view+json": {
       "model_id": "",
       "version_major": 2,
       "version_minor": 0
      },
      "text/plain": [
       "  0%|          | 0/24 [00:00<?, ?it/s]"
      ]
     },
     "metadata": {},
     "output_type": "display_data"
    },
    {
     "data": {
      "application/vnd.jupyter.widget-view+json": {
       "model_id": "",
       "version_major": 2,
       "version_minor": 0
      },
      "text/plain": [
       "  0%|          | 0/24 [00:00<?, ?it/s]"
      ]
     },
     "metadata": {},
     "output_type": "display_data"
    },
    {
     "data": {
      "application/vnd.jupyter.widget-view+json": {
       "model_id": "",
       "version_major": 2,
       "version_minor": 0
      },
      "text/plain": [
       "  0%|          | 0/24 [00:00<?, ?it/s]"
      ]
     },
     "metadata": {},
     "output_type": "display_data"
    },
    {
     "data": {
      "application/vnd.jupyter.widget-view+json": {
       "model_id": "",
       "version_major": 2,
       "version_minor": 0
      },
      "text/plain": [
       "  0%|          | 0/24 [00:00<?, ?it/s]"
      ]
     },
     "metadata": {},
     "output_type": "display_data"
    }
   ],
   "source": [
    "# Adds integer hours\n",
    "lst= []\n",
    "for time in df.Timestamp:\n",
    "    x=time.hour\n",
    "    lst.append(x)\n",
    "df['int_hour'] = lst\n",
    "\n",
    "mean_int = meanitup(df, \"int_hour\").sort_values(by = 'int_hour')"
   ]
  },
  {
   "cell_type": "code",
   "execution_count": 72,
   "id": "41f435ec-78b3-4da6-a068-934725f0bdd5",
   "metadata": {},
   "outputs": [
    {
     "data": {
      "text/html": [
       "<div>\n",
       "<style scoped>\n",
       "    .dataframe tbody tr th:only-of-type {\n",
       "        vertical-align: middle;\n",
       "    }\n",
       "\n",
       "    .dataframe tbody tr th {\n",
       "        vertical-align: top;\n",
       "    }\n",
       "\n",
       "    .dataframe thead th {\n",
       "        text-align: right;\n",
       "    }\n",
       "</style>\n",
       "<table border=\"1\" class=\"dataframe\">\n",
       "  <thead>\n",
       "    <tr style=\"text-align: right;\">\n",
       "      <th></th>\n",
       "      <th>int_hour</th>\n",
       "      <th>Activity</th>\n",
       "      <th>Marker</th>\n",
       "      <th>White Light</th>\n",
       "      <th>Red Light</th>\n",
       "      <th>Green Light</th>\n",
       "      <th>Blue Light</th>\n",
       "      <th>Sleep/Wake</th>\n",
       "      <th>Hours</th>\n",
       "    </tr>\n",
       "  </thead>\n",
       "  <tbody>\n",
       "    <tr>\n",
       "      <th>9</th>\n",
       "      <td>0</td>\n",
       "      <td>36.391657</td>\n",
       "      <td>0.001960</td>\n",
       "      <td>11.241162</td>\n",
       "      <td>6.049721</td>\n",
       "      <td>3.994626</td>\n",
       "      <td>8.506130</td>\n",
       "      <td>0.465286</td>\n",
       "      <td>0.498243</td>\n",
       "    </tr>\n",
       "    <tr>\n",
       "      <th>10</th>\n",
       "      <td>1</td>\n",
       "      <td>5.573950</td>\n",
       "      <td>0.000280</td>\n",
       "      <td>0.575014</td>\n",
       "      <td>0.319588</td>\n",
       "      <td>0.231194</td>\n",
       "      <td>0.483871</td>\n",
       "      <td>0.135294</td>\n",
       "      <td>1.499947</td>\n",
       "    </tr>\n",
       "    <tr>\n",
       "      <th>11</th>\n",
       "      <td>2</td>\n",
       "      <td>3.167778</td>\n",
       "      <td>0.000000</td>\n",
       "      <td>0.762758</td>\n",
       "      <td>0.385350</td>\n",
       "      <td>0.313253</td>\n",
       "      <td>0.253466</td>\n",
       "      <td>0.061667</td>\n",
       "      <td>2.497917</td>\n",
       "    </tr>\n",
       "    <tr>\n",
       "      <th>12</th>\n",
       "      <td>3</td>\n",
       "      <td>1.665556</td>\n",
       "      <td>0.000000</td>\n",
       "      <td>0.000000</td>\n",
       "      <td>0.000000</td>\n",
       "      <td>0.000000</td>\n",
       "      <td>0.000000</td>\n",
       "      <td>0.040278</td>\n",
       "      <td>3.497917</td>\n",
       "    </tr>\n",
       "    <tr>\n",
       "      <th>13</th>\n",
       "      <td>4</td>\n",
       "      <td>1.220000</td>\n",
       "      <td>0.000000</td>\n",
       "      <td>0.000000</td>\n",
       "      <td>0.000000</td>\n",
       "      <td>0.000000</td>\n",
       "      <td>0.000000</td>\n",
       "      <td>0.031667</td>\n",
       "      <td>4.497917</td>\n",
       "    </tr>\n",
       "    <tr>\n",
       "      <th>14</th>\n",
       "      <td>5</td>\n",
       "      <td>1.587222</td>\n",
       "      <td>0.000000</td>\n",
       "      <td>0.000000</td>\n",
       "      <td>0.000000</td>\n",
       "      <td>0.000000</td>\n",
       "      <td>0.000000</td>\n",
       "      <td>0.037500</td>\n",
       "      <td>5.497917</td>\n",
       "    </tr>\n",
       "    <tr>\n",
       "      <th>15</th>\n",
       "      <td>6</td>\n",
       "      <td>1.806389</td>\n",
       "      <td>0.000000</td>\n",
       "      <td>0.003392</td>\n",
       "      <td>0.006511</td>\n",
       "      <td>0.002289</td>\n",
       "      <td>0.000453</td>\n",
       "      <td>0.046389</td>\n",
       "      <td>6.497917</td>\n",
       "    </tr>\n",
       "    <tr>\n",
       "      <th>16</th>\n",
       "      <td>7</td>\n",
       "      <td>8.275278</td>\n",
       "      <td>0.001111</td>\n",
       "      <td>3.183094</td>\n",
       "      <td>1.480881</td>\n",
       "      <td>1.089798</td>\n",
       "      <td>0.904269</td>\n",
       "      <td>0.135833</td>\n",
       "      <td>7.497917</td>\n",
       "    </tr>\n",
       "    <tr>\n",
       "      <th>17</th>\n",
       "      <td>8</td>\n",
       "      <td>37.087778</td>\n",
       "      <td>0.000278</td>\n",
       "      <td>54.980039</td>\n",
       "      <td>39.074941</td>\n",
       "      <td>28.404607</td>\n",
       "      <td>19.563076</td>\n",
       "      <td>0.501944</td>\n",
       "      <td>8.497917</td>\n",
       "    </tr>\n",
       "    <tr>\n",
       "      <th>18</th>\n",
       "      <td>9</td>\n",
       "      <td>53.432500</td>\n",
       "      <td>0.000556</td>\n",
       "      <td>100.949406</td>\n",
       "      <td>124.271540</td>\n",
       "      <td>69.502281</td>\n",
       "      <td>42.957514</td>\n",
       "      <td>0.719167</td>\n",
       "      <td>9.497917</td>\n",
       "    </tr>\n",
       "    <tr>\n",
       "      <th>19</th>\n",
       "      <td>10</td>\n",
       "      <td>48.192500</td>\n",
       "      <td>0.000556</td>\n",
       "      <td>111.917164</td>\n",
       "      <td>192.635773</td>\n",
       "      <td>106.537431</td>\n",
       "      <td>48.756067</td>\n",
       "      <td>0.816667</td>\n",
       "      <td>10.497917</td>\n",
       "    </tr>\n",
       "    <tr>\n",
       "      <th>20</th>\n",
       "      <td>11</td>\n",
       "      <td>33.651299</td>\n",
       "      <td>0.000000</td>\n",
       "      <td>15.718094</td>\n",
       "      <td>15.485220</td>\n",
       "      <td>11.001597</td>\n",
       "      <td>9.179134</td>\n",
       "      <td>0.769489</td>\n",
       "      <td>11.499665</td>\n",
       "    </tr>\n",
       "    <tr>\n",
       "      <th>21</th>\n",
       "      <td>12</td>\n",
       "      <td>51.442023</td>\n",
       "      <td>0.000000</td>\n",
       "      <td>195.808122</td>\n",
       "      <td>242.749882</td>\n",
       "      <td>195.831683</td>\n",
       "      <td>111.150526</td>\n",
       "      <td>0.830958</td>\n",
       "      <td>12.499176</td>\n",
       "    </tr>\n",
       "    <tr>\n",
       "      <th>22</th>\n",
       "      <td>13</td>\n",
       "      <td>41.885278</td>\n",
       "      <td>0.000000</td>\n",
       "      <td>126.134344</td>\n",
       "      <td>122.030794</td>\n",
       "      <td>83.297818</td>\n",
       "      <td>50.349118</td>\n",
       "      <td>0.763889</td>\n",
       "      <td>13.497917</td>\n",
       "    </tr>\n",
       "    <tr>\n",
       "      <th>23</th>\n",
       "      <td>14</td>\n",
       "      <td>31.801695</td>\n",
       "      <td>0.000000</td>\n",
       "      <td>148.428116</td>\n",
       "      <td>160.344338</td>\n",
       "      <td>97.266120</td>\n",
       "      <td>60.632136</td>\n",
       "      <td>0.735028</td>\n",
       "      <td>14.501624</td>\n",
       "    </tr>\n",
       "    <tr>\n",
       "      <th>0</th>\n",
       "      <td>15</td>\n",
       "      <td>47.982435</td>\n",
       "      <td>0.000000</td>\n",
       "      <td>120.172867</td>\n",
       "      <td>160.222141</td>\n",
       "      <td>123.073047</td>\n",
       "      <td>62.476548</td>\n",
       "      <td>0.859780</td>\n",
       "      <td>15.498056</td>\n",
       "    </tr>\n",
       "    <tr>\n",
       "      <th>1</th>\n",
       "      <td>16</td>\n",
       "      <td>34.872161</td>\n",
       "      <td>0.000000</td>\n",
       "      <td>56.077114</td>\n",
       "      <td>75.499824</td>\n",
       "      <td>41.263210</td>\n",
       "      <td>24.858818</td>\n",
       "      <td>0.797903</td>\n",
       "      <td>16.505369</td>\n",
       "    </tr>\n",
       "    <tr>\n",
       "      <th>2</th>\n",
       "      <td>17</td>\n",
       "      <td>41.072549</td>\n",
       "      <td>0.000000</td>\n",
       "      <td>49.753580</td>\n",
       "      <td>59.223140</td>\n",
       "      <td>47.072100</td>\n",
       "      <td>25.176964</td>\n",
       "      <td>0.743697</td>\n",
       "      <td>17.496859</td>\n",
       "    </tr>\n",
       "    <tr>\n",
       "      <th>3</th>\n",
       "      <td>18</td>\n",
       "      <td>44.062778</td>\n",
       "      <td>0.000000</td>\n",
       "      <td>58.613078</td>\n",
       "      <td>60.077593</td>\n",
       "      <td>44.411896</td>\n",
       "      <td>18.726330</td>\n",
       "      <td>0.816389</td>\n",
       "      <td>18.497917</td>\n",
       "    </tr>\n",
       "    <tr>\n",
       "      <th>4</th>\n",
       "      <td>19</td>\n",
       "      <td>50.115278</td>\n",
       "      <td>0.000000</td>\n",
       "      <td>31.855492</td>\n",
       "      <td>7.765001</td>\n",
       "      <td>10.194240</td>\n",
       "      <td>7.250869</td>\n",
       "      <td>0.763889</td>\n",
       "      <td>19.497917</td>\n",
       "    </tr>\n",
       "    <tr>\n",
       "      <th>5</th>\n",
       "      <td>20</td>\n",
       "      <td>37.475671</td>\n",
       "      <td>0.000000</td>\n",
       "      <td>19.283909</td>\n",
       "      <td>10.288272</td>\n",
       "      <td>9.464056</td>\n",
       "      <td>12.354363</td>\n",
       "      <td>0.747483</td>\n",
       "      <td>20.497637</td>\n",
       "    </tr>\n",
       "    <tr>\n",
       "      <th>6</th>\n",
       "      <td>21</td>\n",
       "      <td>33.569444</td>\n",
       "      <td>0.000000</td>\n",
       "      <td>13.412033</td>\n",
       "      <td>9.561058</td>\n",
       "      <td>15.098213</td>\n",
       "      <td>12.702687</td>\n",
       "      <td>0.828333</td>\n",
       "      <td>21.497917</td>\n",
       "    </tr>\n",
       "    <tr>\n",
       "      <th>7</th>\n",
       "      <td>22</td>\n",
       "      <td>36.703889</td>\n",
       "      <td>0.000000</td>\n",
       "      <td>11.864144</td>\n",
       "      <td>19.647358</td>\n",
       "      <td>18.370400</td>\n",
       "      <td>20.875626</td>\n",
       "      <td>0.809444</td>\n",
       "      <td>22.497917</td>\n",
       "    </tr>\n",
       "    <tr>\n",
       "      <th>8</th>\n",
       "      <td>23</td>\n",
       "      <td>45.859167</td>\n",
       "      <td>0.000833</td>\n",
       "      <td>16.070656</td>\n",
       "      <td>11.833080</td>\n",
       "      <td>8.741848</td>\n",
       "      <td>18.141425</td>\n",
       "      <td>0.771944</td>\n",
       "      <td>23.497917</td>\n",
       "    </tr>\n",
       "  </tbody>\n",
       "</table>\n",
       "</div>"
      ],
      "text/plain": [
       "    int_hour   Activity    Marker  White Light   Red Light  Green Light  \\\n",
       "9          0  36.391657  0.001960    11.241162    6.049721     3.994626   \n",
       "10         1   5.573950  0.000280     0.575014    0.319588     0.231194   \n",
       "11         2   3.167778  0.000000     0.762758    0.385350     0.313253   \n",
       "12         3   1.665556  0.000000     0.000000    0.000000     0.000000   \n",
       "13         4   1.220000  0.000000     0.000000    0.000000     0.000000   \n",
       "14         5   1.587222  0.000000     0.000000    0.000000     0.000000   \n",
       "15         6   1.806389  0.000000     0.003392    0.006511     0.002289   \n",
       "16         7   8.275278  0.001111     3.183094    1.480881     1.089798   \n",
       "17         8  37.087778  0.000278    54.980039   39.074941    28.404607   \n",
       "18         9  53.432500  0.000556   100.949406  124.271540    69.502281   \n",
       "19        10  48.192500  0.000556   111.917164  192.635773   106.537431   \n",
       "20        11  33.651299  0.000000    15.718094   15.485220    11.001597   \n",
       "21        12  51.442023  0.000000   195.808122  242.749882   195.831683   \n",
       "22        13  41.885278  0.000000   126.134344  122.030794    83.297818   \n",
       "23        14  31.801695  0.000000   148.428116  160.344338    97.266120   \n",
       "0         15  47.982435  0.000000   120.172867  160.222141   123.073047   \n",
       "1         16  34.872161  0.000000    56.077114   75.499824    41.263210   \n",
       "2         17  41.072549  0.000000    49.753580   59.223140    47.072100   \n",
       "3         18  44.062778  0.000000    58.613078   60.077593    44.411896   \n",
       "4         19  50.115278  0.000000    31.855492    7.765001    10.194240   \n",
       "5         20  37.475671  0.000000    19.283909   10.288272     9.464056   \n",
       "6         21  33.569444  0.000000    13.412033    9.561058    15.098213   \n",
       "7         22  36.703889  0.000000    11.864144   19.647358    18.370400   \n",
       "8         23  45.859167  0.000833    16.070656   11.833080     8.741848   \n",
       "\n",
       "    Blue Light  Sleep/Wake      Hours  \n",
       "9     8.506130    0.465286   0.498243  \n",
       "10    0.483871    0.135294   1.499947  \n",
       "11    0.253466    0.061667   2.497917  \n",
       "12    0.000000    0.040278   3.497917  \n",
       "13    0.000000    0.031667   4.497917  \n",
       "14    0.000000    0.037500   5.497917  \n",
       "15    0.000453    0.046389   6.497917  \n",
       "16    0.904269    0.135833   7.497917  \n",
       "17   19.563076    0.501944   8.497917  \n",
       "18   42.957514    0.719167   9.497917  \n",
       "19   48.756067    0.816667  10.497917  \n",
       "20    9.179134    0.769489  11.499665  \n",
       "21  111.150526    0.830958  12.499176  \n",
       "22   50.349118    0.763889  13.497917  \n",
       "23   60.632136    0.735028  14.501624  \n",
       "0    62.476548    0.859780  15.498056  \n",
       "1    24.858818    0.797903  16.505369  \n",
       "2    25.176964    0.743697  17.496859  \n",
       "3    18.726330    0.816389  18.497917  \n",
       "4     7.250869    0.763889  19.497917  \n",
       "5    12.354363    0.747483  20.497637  \n",
       "6    12.702687    0.828333  21.497917  \n",
       "7    20.875626    0.809444  22.497917  \n",
       "8    18.141425    0.771944  23.497917  "
      ]
     },
     "execution_count": 72,
     "metadata": {},
     "output_type": "execute_result"
    }
   ],
   "source": [
    "mean_int"
   ]
  },
  {
   "cell_type": "code",
   "execution_count": 77,
   "id": "8ddddab6-eddf-4460-98d4-82ab95f16a98",
   "metadata": {},
   "outputs": [
    {
     "data": {
      "image/png": "[encoded data removed]",
      "text/plain": [
       "<Figure size 432x288 with 1 Axes>"
      ]
     },
     "metadata": {
      "needs_background": "light"
     },
     "output_type": "display_data"
    }
   ],
   "source": [
    "ax = plt.subplot(111, polar=True)\n",
    "equals = np.linspace(0, 360, 24, endpoint=False) #np.arange(24)\n",
    "ax.bar(np.deg2rad(equals), mean_int.Activity)       \n",
    "\n",
    "# Set the circumference labels\n",
    "ax.set_xticks(np.linspace(0, 2*np.pi, 24, endpoint=False))\n",
    "ax.set_xticklabels(range(24))      \n",
    "\n",
    "# Make the labels go clockwise\n",
    "ax.set_theta_direction(-1)       \n",
    "\n",
    "# Place 0 at the top\n",
    "ax.set_theta_offset(np.pi/2.0)       \n",
    "\n",
    "plt.show()"
   ]
  }
 ],
 "metadata": {
  "kernelspec": {
   "display_name": "Python 3",
   "language": "python",
   "name": "python3"
  },
  "language_info": {
   "codemirror_mode": {
    "name": "ipython",
    "version": 3
   },
   "file_extension": ".py",
   "mimetype": "text/x-python",
   "name": "python",
   "nbconvert_exporter": "python",
   "pygments_lexer": "ipython3",
   "version": "3.8.5"
  }
 },
 "nbformat": 4,
 "nbformat_minor": 5
}
